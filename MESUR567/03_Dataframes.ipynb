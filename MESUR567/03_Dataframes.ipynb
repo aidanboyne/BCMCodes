{
 "cells": [
  {
   "cell_type": "markdown",
   "id": "5c5a5a96",
   "metadata": {},
   "source": [
    "# Week 3: Dataframes"
   ]
  },
  {
   "cell_type": "markdown",
   "id": "6faf1251",
   "metadata": {},
   "source": [
    "### Dowload data\n",
    "We're going to use a dataset on social media use in students for this demo. We can [download it from the class GitHub](https://github.com/aidanboyne/BCMCodes/blob/main/MESUR567/Data/Student_Social_Media.csv)\n",
    "\n",
    "DataFrames in Python are analagous to an Excel sheet. We have rows, columns, and indicies that specify where data is located. We can store pretty much any kind of data in a DataFrame:"
   ]
  },
  {
   "cell_type": "markdown",
   "id": "45e1679a",
   "metadata": {
    "vscode": {
     "languageId": "plaintext"
    }
   },
   "source": [
    "![Dataframe](https://cdn.prod.website-files.com/6064b31ff49a2d31e0493af1/6752925cfc288110619b582d_AD_4nXdWgNntuLpGT4Hm0I13-e5WjQZvUyiD55p7FJrICZ1YdF1DImwL4OGMj1vLWaJkXVyIiaVtkIbIfq5Snwwi0GA280whoU1nfm-xW1IeCDIvBcvy04fFuUc8yaAFc1doavWmuQpydw.png)"
   ]
  },
  {
   "cell_type": "markdown",
   "id": "21d5f3ed",
   "metadata": {},
   "source": [
    "To open a DataFrame, you use the Pandas Library:\n",
    "`conda install pandas`. Replace the datapath below with wherever you saved your .csv file."
   ]
  },
  {
   "cell_type": "code",
   "execution_count": null,
   "id": "4616a71a",
   "metadata": {},
   "outputs": [],
   "source": [
    "import pandas as pd"
   ]
  },
  {
   "cell_type": "code",
   "execution_count": null,
   "id": "3ae76b61",
   "metadata": {},
   "outputs": [],
   "source": [
    "datapath = 'Data/Student_Social_Media.csv'\n",
    "df = pd.read_csv(datapath)"
   ]
  },
  {
   "cell_type": "markdown",
   "id": "3e4ecbfc",
   "metadata": {},
   "source": [
    "### Basic DataFrame Operations"
   ]
  },
  {
   "cell_type": "markdown",
   "id": "109b753d",
   "metadata": {},
   "source": [
    "#### Exploring and summarizing the data \n",
    "It's always important to get a good idea of what kind of data you are working with, if it is clean, what datatypes are available, etc... before doing any formal analysis"
   ]
  },
  {
   "cell_type": "code",
   "execution_count": null,
   "id": "8983786e",
   "metadata": {},
   "outputs": [],
   "source": [
    "# Display the first 5 rows of the DataFrame\n",
    "df.head()"
   ]
  },
  {
   "cell_type": "code",
   "execution_count": null,
   "id": "81db02c1",
   "metadata": {},
   "outputs": [],
   "source": [
    "# Check the number of rows and columns (rows, columns)\n",
    "df.shape"
   ]
  },
  {
   "cell_type": "code",
   "execution_count": null,
   "id": "fa686bd2",
   "metadata": {},
   "outputs": [],
   "source": [
    "# Get an overview of column names and data types\n",
    "df.info()\n"
   ]
  },
  {
   "cell_type": "code",
   "execution_count": null,
   "id": "01c2af4a",
   "metadata": {},
   "outputs": [],
   "source": [
    "# Summary statistics for numeric columns\n",
    "df.describe()"
   ]
  },
  {
   "cell_type": "code",
   "execution_count": null,
   "id": "eb19affa",
   "metadata": {},
   "outputs": [],
   "source": [
    "# View column names\n",
    "df.columns\n"
   ]
  },
  {
   "cell_type": "markdown",
   "id": "92050fc7",
   "metadata": {},
   "source": [
    "#### Selecting subsets of the DataFrame"
   ]
  },
  {
   "cell_type": "code",
   "execution_count": null,
   "id": "d54def35",
   "metadata": {},
   "outputs": [],
   "source": [
    "# Select a single column (returns a Series; like selecting a whole column in Excel)\n",
    "df['Age']"
   ]
  },
  {
   "cell_type": "code",
   "execution_count": null,
   "id": "a526d64d",
   "metadata": {},
   "outputs": [],
   "source": [
    "# Select multiple columns (returns a DataFrame)\n",
    "df[['Age', 'Gender', 'Country']]"
   ]
  },
  {
   "cell_type": "code",
   "execution_count": null,
   "id": "98b61fed",
   "metadata": {},
   "outputs": [],
   "source": [
    "# Access a specific row by index (like a single row in Excel, e.g., row 2)\n",
    "df.iloc[1]"
   ]
  },
  {
   "cell_type": "code",
   "execution_count": null,
   "id": "0365270d",
   "metadata": {},
   "outputs": [],
   "source": [
    "# Set the Student_ID column as index for easier lookup\n",
    "df.set_index('Student_ID', inplace=True)\n",
    "\n",
    "# Now access by student ID\n",
    "df.loc[2]"
   ]
  },
  {
   "cell_type": "markdown",
   "id": "262ed68e",
   "metadata": {},
   "source": [
    "#### Filter Data\n",
    "\n",
    "This is where DataFrames start to show distinct advantages over Excel... MUCH easier to apply logic and manage multiple, smaller subsets of the data"
   ]
  },
  {
   "cell_type": "code",
   "execution_count": null,
   "id": "27d9422a",
   "metadata": {},
   "outputs": [],
   "source": [
    "# Filter rows: Students who use Instagram more than 4 hours/day\n",
    "df[(df['Most_Used_Platform'] == 'Instagram') & (df['Avg_Daily_Usage_Hours'] > 4)]"
   ]
  },
  {
   "cell_type": "code",
   "execution_count": null,
   "id": "57842c55",
   "metadata": {},
   "outputs": [],
   "source": [
    "# Students who reported negative effect on academics\n",
    "df[df['Affects_Academic_Performance'] == 'Yes']"
   ]
  },
  {
   "cell_type": "code",
   "execution_count": null,
   "id": "66af5aca",
   "metadata": {},
   "outputs": [],
   "source": [
    "# Count of each platform usage (Excel analogy: use of COUNTIF)\n",
    "df['Most_Used_Platform'].value_counts()"
   ]
  },
  {
   "cell_type": "code",
   "execution_count": null,
   "id": "4d1c1609",
   "metadata": {},
   "outputs": [],
   "source": [
    "# Group by academic level and compute average usage (like pivot table in Excel)\n",
    "df.groupby('Academic_Level')['Avg_Daily_Usage_Hours'].mean()"
   ]
  },
  {
   "cell_type": "markdown",
   "id": "1732d5b2",
   "metadata": {},
   "source": [
    "#### Modifying DataFrames"
   ]
  },
  {
   "cell_type": "code",
   "execution_count": null,
   "id": "ebe18e51",
   "metadata": {},
   "outputs": [],
   "source": [
    "# Add a new column: categorize sleep\n",
    "df['Sleep_Category'] = df['Sleep_Hours_Per_Night'].apply(lambda x: 'Low' if x < 6 else 'Adequate')"
   ]
  },
  {
   "cell_type": "code",
   "execution_count": null,
   "id": "8f92a101",
   "metadata": {},
   "outputs": [],
   "source": [
    "# Take a look at the new column\n",
    "df['Sleep_Category']"
   ]
  },
  {
   "cell_type": "markdown",
   "id": "07bd297b",
   "metadata": {},
   "source": [
    "Now, make a new column `Sleep_Hours_Per_Week`"
   ]
  },
  {
   "cell_type": "code",
   "execution_count": null,
   "id": "3608e859",
   "metadata": {},
   "outputs": [],
   "source": []
  },
  {
   "cell_type": "markdown",
   "id": "5884b71f",
   "metadata": {},
   "source": [
    "What about a column `Is_Addicted` which is True if `Addicted_Score` is equal to or greater than 7?"
   ]
  },
  {
   "cell_type": "code",
   "execution_count": null,
   "id": "60dbed0a",
   "metadata": {},
   "outputs": [],
   "source": []
  },
  {
   "cell_type": "markdown",
   "id": "05055cc7",
   "metadata": {},
   "source": [
    "If we don't need this column, we can get rid of it using `.drop`"
   ]
  },
  {
   "cell_type": "code",
   "execution_count": null,
   "id": "66ae5ab5",
   "metadata": {},
   "outputs": [],
   "source": [
    "# Drop a column you don't want\n",
    "df.drop(columns=['Sleep_Hours_Per_Week'], inplace=True)"
   ]
  },
  {
   "cell_type": "markdown",
   "id": "b9532e20",
   "metadata": {},
   "source": [
    "#### Sorting Data"
   ]
  },
  {
   "cell_type": "code",
   "execution_count": null,
   "id": "369cc38e",
   "metadata": {},
   "outputs": [],
   "source": [
    "# Sort by mental health score, descending\n",
    "df.sort_values(by='Mental_Health_Score', ascending=False)"
   ]
  },
  {
   "cell_type": "code",
   "execution_count": null,
   "id": "ea3b0649",
   "metadata": {},
   "outputs": [],
   "source": [
    "# Rename columns for clarity\n",
    "df.rename(columns={'Mental_Health_Score': 'Mental_Health'}, inplace=True)"
   ]
  },
  {
   "cell_type": "code",
   "execution_count": null,
   "id": "b165c992",
   "metadata": {},
   "outputs": [],
   "source": [
    "#### Cleaning Data"
   ]
  },
  {
   "cell_type": "code",
   "execution_count": null,
   "id": "f9b05ecb",
   "metadata": {},
   "outputs": [],
   "source": [
    "# Handle missing values: count missing per column\n",
    "df.isnull().sum()"
   ]
  },
  {
   "cell_type": "code",
   "execution_count": null,
   "id": "9353c81c",
   "metadata": {},
   "outputs": [],
   "source": [
    "# Fill missing values in Sleep_Hours_Per_Night with the median\n",
    "df['Sleep_Hours_Per_Night'] = df['Sleep_Hours_Per_Night'].fillna(df['Sleep_Hours_Per_Night'].median())"
   ]
  },
  {
   "cell_type": "markdown",
   "id": "25f73f19",
   "metadata": {},
   "source": [
    "#### Exporting Data"
   ]
  },
  {
   "cell_type": "code",
   "execution_count": null,
   "id": "70c3a9a0",
   "metadata": {},
   "outputs": [],
   "source": [
    "# Export modified DataFrame to a new CSV\n",
    "df.to_csv('Data/modified_social_media_usage.csv')"
   ]
  },
  {
   "cell_type": "markdown",
   "id": "384632a9",
   "metadata": {},
   "source": [
    "#### Bonus: Visualization\n",
    "Many visualization packages are designed to work seamlessly with DataFrames, making it easy to plot your data and analyses. Let's try visualizing usuage with matplotlib.\n",
    "\n",
    "`conda install matplotlib`"
   ]
  },
  {
   "cell_type": "code",
   "execution_count": null,
   "id": "37e4fe03",
   "metadata": {},
   "outputs": [],
   "source": [
    "import matplotlib.pyplot as plt\n",
    "\n",
    "df['Avg_Daily_Usage_Hours'].hist(bins=10)\n",
    "plt.xlabel('Average Daily Usage (hours)')\n",
    "plt.ylabel('Number of Students')\n",
    "plt.title('Distribution of Social Media Usage')\n",
    "plt.show()"
   ]
  },
  {
   "cell_type": "code",
   "execution_count": null,
   "id": "f594c836",
   "metadata": {},
   "outputs": [],
   "source": [
    "pd.crosstab(df['Is_Addicted'], df['Affects_Academic_Performance'])"
   ]
  }
 ],
 "metadata": {
  "kernelspec": {
   "display_name": "stats",
   "language": "python",
   "name": "python3"
  },
  "language_info": {
   "codemirror_mode": {
    "name": "ipython",
    "version": 3
   },
   "file_extension": ".py",
   "mimetype": "text/x-python",
   "name": "python",
   "nbconvert_exporter": "python",
   "pygments_lexer": "ipython3",
   "version": "3.12.4"
  }
 },
 "nbformat": 4,
 "nbformat_minor": 5
}
